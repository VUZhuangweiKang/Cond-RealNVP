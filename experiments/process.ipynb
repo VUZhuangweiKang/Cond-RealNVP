{
 "cells": [
  {
   "cell_type": "code",
   "execution_count": 152,
   "metadata": {},
   "outputs": [],
   "source": [
    "import os, sys\n",
    "import json\n",
    "import pandas as pd\n",
    "import numpy as np\n",
    "from sklearn.metrics import RocCurveDisplay\n",
    "import matplotlib.pyplot as plt\n",
    "import warnings\n",
    "warnings.filterwarnings('ignore')\n",
    "plt.rcParams['axes.grid'] = True\n",
    "\n",
    "clusters = [-1, 0, 1, 2, 3, 5, 6, 7]\n",
    "algs = ['AR', 'ANN_AE', 'ANN_VAE', 'LSTM_AE', 'DeepLog', 'CondRealNVP']\n",
    "beta = [1.00, 0.50, 0.25]\n",
    "alpha = [0.05, 0.03, 0.01]\n",
    "\n",
    "save_dir = './Inrix/results'"
   ]
  },
  {
   "cell_type": "markdown",
   "metadata": {},
   "source": [
    "# Cluster-level anomaly detection performance"
   ]
  },
  {
   "cell_type": "markdown",
   "metadata": {
    "tags": []
   },
   "source": [
    "### Exp 1. Effectiveness Test"
   ]
  },
  {
   "cell_type": "code",
   "execution_count": 33,
   "metadata": {},
   "outputs": [],
   "source": [
    "for c in clusters:\n",
    "    recall_perf = {}\n",
    "    f1_perf = {}\n",
    "    for a in algs:\n",
    "        recall_df = {}\n",
    "        f1_df = {}\n",
    "        for s in alpha:\n",
    "            all_recall = []\n",
    "            all_f1 = []\n",
    "            for r in range(1, 6):\n",
    "                with open('Inrix/logs/%s/run%d/OPTICS/%d/spat_0.50_slice_%.2f/cluster_perf.json' % (a, r, c, s)) as f:\n",
    "                    p = json.load(f)\n",
    "                    precision = p['precision']\n",
    "                    recall = p['recall']\n",
    "                    f1 = p['f1_score']\n",
    "                all_recall.append(recall)\n",
    "                all_f1.append(f1)\n",
    "            recall_df['alpha=%.2f' % s] = np.mean(all_recall)\n",
    "            f1_df['alpha=%.2f' % s] = np.mean(all_f1)\n",
    "        recall_perf['%s'%a] = recall_df\n",
    "        f1_perf['%s'%a] = f1_df\n",
    "    recall_perf = pd.DataFrame(recall_perf).round(3).T\n",
    "    f1_perf = pd.DataFrame(f1_perf).round(3).T\n",
    "    os.system('mkdir -p %s/effectiveness/recall' % save_dir)\n",
    "    os.system('mkdir -p %s/effectiveness/f1' % save_dir)\n",
    "    recall_perf.to_csv('%s/effectiveness/recall/cluster%d.csv' % (save_dir, c))\n",
    "    f1_perf.to_csv('%s/effectiveness/f1/cluster%d.csv' % (save_dir, c))"
   ]
  },
  {
   "cell_type": "markdown",
   "metadata": {},
   "source": [
    "#### Compute Average Performance"
   ]
  },
  {
   "cell_type": "code",
   "execution_count": 34,
   "metadata": {},
   "outputs": [
    {
     "name": "stdout",
     "output_type": "stream",
     "text": [
      "Alg: AR-------------\n",
      "[(0.446, 0.047), (0.401, 0.069), (0.292, 0.074)]\n",
      "Alg: ANN_AE-------------\n",
      "[(0.475, 0.124), (0.421, 0.144), (0.295, 0.14)]\n",
      "Alg: ANN_VAE-------------\n",
      "[(0.49, 0.122), (0.435, 0.139), (0.307, 0.131)]\n",
      "Alg: LSTM_AE-------------\n",
      "[(0.466, 0.105), (0.401, 0.127), (0.272, 0.119)]\n",
      "Alg: DeepLog-------------\n",
      "[(0.439, 0.048), (0.374, 0.076), (0.246, 0.079)]\n",
      "Alg: CondRealNVP-------------\n",
      "[(0.632, 0.146), (0.583, 0.168), (0.48, 0.169)]\n"
     ]
    }
   ],
   "source": [
    "for a in algs:\n",
    "    print('Alg: %s-------------' % a)\n",
    "    data = []\n",
    "    for c in clusters:\n",
    "        perf = pd.read_csv('Inrix/results/effectiveness/f1/cluster%d.csv'%c, index_col=0)\n",
    "        data.append(perf.loc[a].values)\n",
    "    data = pd.DataFrame(data, index=clusters, columns=alpha)\n",
    "    data_mean = data.mean(axis=0).round(3)\n",
    "    data_std = data.std(axis=0).round(3)\n",
    "    print(list(zip(data_mean.values, data_std.values)))"
   ]
  },
  {
   "cell_type": "markdown",
   "metadata": {
    "tags": []
   },
   "source": [
    "### Exp 2. Sensitivity Test"
   ]
  },
  {
   "cell_type": "code",
   "execution_count": 35,
   "metadata": {},
   "outputs": [],
   "source": [
    "for c in clusters:\n",
    "    recall_perf = {}\n",
    "    f1_perf = {}\n",
    "    for a in algs:\n",
    "        recall_df = {}\n",
    "        f1_df = {}\n",
    "        for b in beta:\n",
    "            all_recall = []\n",
    "            all_f1 = []\n",
    "            for r in range(1, 6):\n",
    "                with open('Inrix/logs/%s/run%d/OPTICS/%d/spat_%.2f_slice_0.05/cluster_perf.json' % (a, r, c, b)) as f:\n",
    "                    p = json.load(f)\n",
    "                    precision = p['precision']\n",
    "                    recall = p['recall']\n",
    "                    f1 = p['f1_score']\n",
    "                all_recall.append(recall)\n",
    "                all_f1.append(f1)\n",
    "            recall_df['beta=%.2f' % b] = np.mean(all_recall)\n",
    "            f1_df['beta=%.2f' % b] = np.mean(all_f1)\n",
    "        recall_perf['%s'%a] = recall_df\n",
    "        f1_perf['%s'%a] = f1_df\n",
    "    recall_perf = pd.DataFrame(recall_perf).round(3).T\n",
    "    f1_perf = pd.DataFrame(f1_perf).round(3).T\n",
    "    os.system('mkdir -p %s/sensitivity/recall' % save_dir)\n",
    "    os.system('mkdir -p %s/sensitivity/f1' % save_dir)\n",
    "    recall_perf.to_csv('%s/sensitivity/recall/cluster%d.csv' % (save_dir, c))\n",
    "    f1_perf.to_csv('%s/sensitivity/f1/cluster%d.csv' % (save_dir, c))"
   ]
  },
  {
   "cell_type": "markdown",
   "metadata": {},
   "source": [
    "#### Compute Average Performance"
   ]
  },
  {
   "cell_type": "code",
   "execution_count": 38,
   "metadata": {},
   "outputs": [
    {
     "name": "stdout",
     "output_type": "stream",
     "text": [
      "Alg: AR-------------\n",
      "[(0.58, 0.037), (0.446, 0.047), (0.241, 0.058)]\n",
      "Alg: ANN_AE-------------\n",
      "[(0.516, 0.088), (0.475, 0.124), (0.369, 0.123)]\n",
      "Alg: ANN_VAE-------------\n",
      "[(0.541, 0.073), (0.49, 0.122), (0.37, 0.135)]\n",
      "Alg: LSTM_AE-------------\n",
      "[(0.519, 0.06), (0.466, 0.105), (0.342, 0.103)]\n",
      "Alg: DeepLog-------------\n",
      "[(0.53, 0.052), (0.439, 0.048), (0.288, 0.049)]\n",
      "Alg: CondRealNVP-------------\n",
      "[(0.575, 0.079), (0.632, 0.146), (0.484, 0.157)]\n"
     ]
    }
   ],
   "source": [
    "for a in algs:\n",
    "    print('Alg: %s-------------' % a)\n",
    "    data = []\n",
    "    for c in clusters:\n",
    "        perf = pd.read_csv('Inrix/results/sensitivity/f1/cluster%d.csv'%c, index_col=0)\n",
    "        data.append(perf.loc[a].values)\n",
    "    data = pd.DataFrame(data, index=clusters, columns=beta)\n",
    "    data_mean = data.mean(axis=0).round(3)\n",
    "    data_std = data.std(axis=0).round(3)\n",
    "    print(list(zip(data_mean.values, data_std.values)))"
   ]
  },
  {
   "cell_type": "markdown",
   "metadata": {
    "tags": []
   },
   "source": [
    "### Exp 3. Segment-level anomaly detection performance"
   ]
  },
  {
   "cell_type": "code",
   "execution_count": 41,
   "metadata": {},
   "outputs": [],
   "source": [
    "for c in clusters:\n",
    "    recall_perf = {}\n",
    "    f1_perf = {}\n",
    "    for a in algs:\n",
    "        recall_df = {}\n",
    "        f1_df = {}\n",
    "        for b in beta:\n",
    "            all_recall = []\n",
    "            all_f1 = []\n",
    "            for r in range(1, 6):\n",
    "                # print('Inrix/logs/%s/run%d/OPTICS/%d/spat_%.2f_slice_0.05/seg_perf.json' % (a, r, c, b))\n",
    "                with open('Inrix/logs/%s/run%d/OPTICS/%d/spat_%.2f_slice_0.05/seg_perf.json' % (a, r, c, b)) as f:\n",
    "                    p = json.load(f)\n",
    "                    precision = p['precision']\n",
    "                    recall = p['recall']\n",
    "                    f1 = p['f1_score']\n",
    "                all_recall.append(recall)\n",
    "                all_f1.append(f1)\n",
    "            recall_df['beta=%.2f' % b] = np.mean(all_recall)\n",
    "            f1_df['beta=%.2f' % b] = np.mean(all_f1)\n",
    "        recall_perf['%s'%a] = recall_df\n",
    "        f1_perf['%s'%a] = f1_df\n",
    "    recall_perf = pd.DataFrame(recall_perf).round(3).T\n",
    "    f1_perf = pd.DataFrame(f1_perf).round(3).T\n",
    "    os.system('mkdir -p %s/diagnosis/recall' % save_dir)\n",
    "    os.system('mkdir -p %s/diagnosis/f1' % save_dir)\n",
    "    recall_perf.to_csv('%s/diagnosis/recall/cluster%d.csv' % (save_dir, c))\n",
    "    f1_perf.to_csv('%s/diagnosis/f1/cluster%d.csv' % (save_dir, c))"
   ]
  },
  {
   "cell_type": "markdown",
   "metadata": {},
   "source": [
    "#### Compute Average Performance"
   ]
  },
  {
   "cell_type": "code",
   "execution_count": 44,
   "metadata": {},
   "outputs": [
    {
     "name": "stdout",
     "output_type": "stream",
     "text": [
      "Alg: AR-------------\n",
      "[(0.57, 0.041), (0.341, 0.034), (0.178, 0.041)]\n",
      "Alg: ANN_AE-------------\n",
      "[(0.491, 0.091), (0.345, 0.072), (0.221, 0.061)]\n",
      "Alg: ANN_VAE-------------\n",
      "[(0.517, 0.069), (0.352, 0.068), (0.218, 0.068)]\n",
      "Alg: LSTM_AE-------------\n",
      "[(0.507, 0.066), (0.341, 0.065), (0.211, 0.05)]\n",
      "Alg: DeepLog-------------\n",
      "[(0.514, 0.06), (0.333, 0.038), (0.199, 0.035)]\n",
      "Alg: CondRealNVP-------------\n",
      "[(0.572, 0.077), (0.42, 0.092), (0.245, 0.075)]\n"
     ]
    }
   ],
   "source": [
    "for a in algs:\n",
    "    print('Alg: %s-------------' % a)\n",
    "    data = []\n",
    "    for c in clusters:\n",
    "        perf = pd.read_csv('Inrix/results/diagnosis/f1/cluster%d.csv'%c, index_col=0)\n",
    "        data.append(perf.loc[a].values)\n",
    "    data = pd.DataFrame(data, index=clusters, columns=beta)\n",
    "    data_mean = data.mean(axis=0).round(3)\n",
    "    data_std = data.std(axis=0).round(3)\n",
    "    print(list(zip(data_mean.values, data_std.values)))"
   ]
  },
  {
   "cell_type": "markdown",
   "metadata": {},
   "source": [
    "#### Diagnosis Time"
   ]
  },
  {
   "cell_type": "code",
   "execution_count": 157,
   "metadata": {},
   "outputs": [
    {
     "name": "stdout",
     "output_type": "stream",
     "text": [
      " 2    44.738\n",
      " 7    61.611\n",
      " 3    43.946\n",
      " 1    46.600\n",
      " 6    10.218\n",
      " 5    11.834\n",
      " 0    52.391\n",
      "-1     7.441\n",
      "dtype: float64\n"
     ]
    },
    {
     "data": {
      "image/png": "[encoded data removed]",
      "text/plain": [
       "<Figure size 432x288 with 1 Axes>"
      ]
     },
     "metadata": {},
     "output_type": "display_data"
    }
   ],
   "source": [
    "diag_time_perf = {}\n",
    "clusters = [2,7,3,1,6,5,0,-1]\n",
    "cluster_names = ['A', 'B', 'C', 'D', 'E', 'F', 'G', 'H']\n",
    "\n",
    "import seaborn as sns\n",
    "sns.set(rc = {'figure.figsize':(6,4)})\n",
    "\n",
    "for c in clusters:\n",
    "    diag_time_df = {}\n",
    "    for s in alpha[:1]:\n",
    "        all_diag_time = []\n",
    "        for r in range(1, 6):\n",
    "            with open('Inrix/logs/CondRealNVP/run%d/OPTICS/%d/spat_0.50_slice_%.2f/seg_perf.json' % (r, c, s)) as f:\n",
    "                p = json.load(f)\n",
    "                avg_diag_time = p['avg_diag_time']\n",
    "            all_diag_time.append(avg_diag_time)\n",
    "        diag_time_df['alpha=%.2f' % s] = all_diag_time\n",
    "    # print(pd.DataFrame(diag_time_df))\n",
    "    diag_time_perf[c] = diag_time_df['alpha=%.2f' % s]\n",
    "\n",
    "diag_time_perf = pd.DataFrame(diag_time_perf)*1000\n",
    "print(diag_time_perf.mean(axis=0).round(3))\n",
    "fig = diag_time_perf.plot(kind='box', fontsize=18)\n",
    "plt.xticks(np.arange(1, 9), cluster_names)\n",
    "fig.set_xlabel('Clusters', fontsize=20)\n",
    "fig.set_ylabel('Diagnosis time (ms)', fontsize=20)\n",
    "plt.savefig('diag_time.png', dpi=400)\n",
    "# diag_time_perf = 100*pd.DataFrame(diag_time_perf).mean(axis=0).T.round(3)\n",
    "# os.system('mkdir -p %s/diagnosis/diag_time' % save_dir)\n",
    "# diag_time_perf.to_csv('%s/diagnosis/diag_time/cluster%d.csv' % (save_dir, c))\n",
    "\n",
    "# print(diag_time_perf.values)"
   ]
  },
  {
   "cell_type": "markdown",
   "metadata": {},
   "source": [
    "### Supervised Classification"
   ]
  },
  {
   "cell_type": "code",
   "execution_count": 271,
   "metadata": {},
   "outputs": [
    {
     "data": {
      "image/png": "[encoded data removed]",
      "text/plain": [
       "<Figure size 432x216 with 1 Axes>"
      ]
     },
     "metadata": {
      "needs_background": "light"
     },
     "output_type": "display_data"
    }
   ],
   "source": [
    "clusters = [2,7,3,1,6,5,0,-1]\n",
    "cluster_names = ['A', 'B', 'C', 'D', 'E', 'F', 'G', 'H']\n",
    "\n",
    "results = {}\n",
    "for i in range(5):\n",
    "    all_auc = {}\n",
    "    for c in clusters:\n",
    "        auc = np.load('Inrix/logs/CondRealNVP/classifier/run%d/%d/auc.npy' % (i, c))\n",
    "        all_auc[c] = auc\n",
    "    all_auc = pd.DataFrame(all_auc)\n",
    "    results[i] = all_auc.mean(0).values  # average over five synthetic testing datasets\n",
    "\n",
    "results = pd.DataFrame(results).T\n",
    "fig = plt.figure(figsize=(6, 3))\n",
    "plt.boxplot(results)\n",
    "plt.xlabel('Clusters', fontsize=18)\n",
    "plt.xticks(np.arange(1, 9), cluster_names, fontsize=16)\n",
    "plt.yticks(fontsize=16)\n",
    "plt.ylabel('AUC Score', fontsize=18)\n",
    "plt.tight_layout()\n",
    "plt.savefig('auc.png', dpi=400)"
   ]
  }
 ],
 "metadata": {
  "interpreter": {
   "hash": "e387828135ed11a3cbaba74983cf8a353af8dea485e863378ad155dc6d53e211"
  },
  "kernelspec": {
   "display_name": "zhuangwei",
   "language": "python",
   "name": "zhuangwei"
  },
  "language_info": {
   "codemirror_mode": {
    "name": "ipython",
    "version": 3
   },
   "file_extension": ".py",
   "mimetype": "text/x-python",
   "name": "python",
   "nbconvert_exporter": "python",
   "pygments_lexer": "ipython3",
   "version": "3.7.10"
  }
 },
 "nbformat": 4,
 "nbformat_minor": 4
}
